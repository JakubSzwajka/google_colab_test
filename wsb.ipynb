{
  "nbformat": 4,
  "nbformat_minor": 0,
  "metadata": {
    "colab": {
      "name": "wsb.ipynb",
      "provenance": [],
      "collapsed_sections": [],
      "authorship_tag": "ABX9TyMSezB8LpvmZaKTJhZL4v2k",
      "include_colab_link": true
    },
    "kernelspec": {
      "name": "python3",
      "display_name": "Python 3"
    }
  },
  "cells": [
    {
      "cell_type": "markdown",
      "metadata": {
        "id": "view-in-github",
        "colab_type": "text"
      },
      "source": [
        "<a href=\"https://colab.research.google.com/github/JakubSzwajka/google_colab_test/blob/main/wsb.ipynb\" target=\"_parent\"><img src=\"https://colab.research.google.com/assets/colab-badge.svg\" alt=\"Open In Colab\"/></a>"
      ]
    },
    {
      "cell_type": "markdown",
      "metadata": {
        "id": "kqMHccD8i53B"
      },
      "source": [
        "Importowanie pełnej Tabeli przygotowanej w Excelu"
      ]
    },
    {
      "cell_type": "code",
      "metadata": {
        "colab": {
          "base_uri": "https://localhost:8080/"
        },
        "id": "6362tFUQg5rp",
        "outputId": "09af5d83-37eb-49b6-9050-08b0acc7084a"
      },
      "source": [
        "from google.colab import files\n",
        "import pandas as pd\n",
        "\n",
        "dtf = pd.read_excel(\"pr.xlsx\")\n",
        "print(dtf)"
      ],
      "execution_count": null,
      "outputs": [
        {
          "output_type": "stream",
          "text": [
            "      MANDT       BANFN  BNFPO BSART  ... OIO_REF_BNFPO  OIO_HOLD ZZCHA ZZCHAP\n",
            "0        10      800490     10   ZSR  ...             0       NaN     0      0\n",
            "1        10      800522     10   ZSR  ...             0       NaN     0      0\n",
            "2        10      800551      1   ZSR  ...             0       NaN     0      0\n",
            "3        10      800551      2   ZSR  ...             0       NaN     0      0\n",
            "4        10      800551      3   ZSR  ...             0       NaN     0      0\n",
            "...     ...         ...    ...   ...  ...           ...       ...   ...    ...\n",
            "1198     10  5000002318     10  ZMRP  ...             0       NaN     0      0\n",
            "1199     10  5000002319     10  ZMRP  ...             0       NaN     0      0\n",
            "1200     10  5000002319     20  ZMRP  ...             0       NaN     0      0\n",
            "1201     10  5000002330     10  ZMRP  ...             0       NaN     0      0\n",
            "1202     10  5000002332     10  ZMRP  ...             0       NaN     0      0\n",
            "\n",
            "[1203 rows x 168 columns]\n"
          ],
          "name": "stdout"
        }
      ]
    },
    {
      "cell_type": "markdown",
      "metadata": {
        "id": "k0RS2ORJjadm"
      },
      "source": [
        "1. Usunięcie niepotrzebnych kolumn o których już wiem że ich nie potrzebuje. \n",
        "2. Usunięcie kolumn które nie są wypełnione danymi przynajmniej w połowie. "
      ]
    },
    {
      "cell_type": "code",
      "metadata": {
        "colab": {
          "base_uri": "https://localhost:8080/"
        },
        "id": "LDAZp9HFi3lF",
        "outputId": "8831a706-f9e2-4d04-ac2b-c1257d7fddc5"
      },
      "source": [
        "columns_to_remove = ['MANDT', 'FRGZU', 'ADRNR', 'ADRN2', 'BANFN']\n",
        "\n",
        "def removeColumnsByName(dtf: pd.DataFrame, namesList: list):\n",
        "    dtf = dtf.drop(columns=namesList)\n",
        "    dtf = dtf.dropna(axis=1, how='any', thresh=dtf.shape[0]/2)\n",
        "    return dtf\n",
        "\n",
        "dtf = removeColumnsByName( dtf , columns_to_remove)\n",
        "print(dtf)"
      ],
      "execution_count": null,
      "outputs": [
        {
          "output_type": "stream",
          "text": [
            "      BNFPO BSART BSTYP STATU  ... OIOILCON OIO_REF_BNFPO ZZCHA ZZCHAP\n",
            "0        10   ZSR     B     N  ...        0             0     0      0\n",
            "1        10   ZSR     B     B  ...        0             0     0      0\n",
            "2         1   ZSR     B     B  ...        0             0     0      0\n",
            "3         2   ZSR     B     B  ...        0             0     0      0\n",
            "4         3   ZSR     B     B  ...        0             0     0      0\n",
            "...     ...   ...   ...   ...  ...      ...           ...   ...    ...\n",
            "1198     10  ZMRP     B     N  ...        0             0     0      0\n",
            "1199     10  ZMRP     B     B  ...        0             0     0      0\n",
            "1200     20  ZMRP     B     B  ...        0             0     0      0\n",
            "1201     10  ZMRP     B     N  ...        0             0     0      0\n",
            "1202     10  ZMRP     B     N  ...        0             0     0      0\n",
            "\n",
            "[1203 rows x 64 columns]\n"
          ],
          "name": "stdout"
        }
      ]
    },
    {
      "cell_type": "markdown",
      "metadata": {
        "id": "2ysaFTL8jvQD"
      },
      "source": [
        "Przemapowanie wartości '05' i '08' w polu \"BANPR\" na 0 i 1\n",
        "\n",
        "![image.png](data:image/png;base64,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)"
      ]
    },
    {
      "cell_type": "code",
      "metadata": {
        "colab": {
          "base_uri": "https://localhost:8080/"
        },
        "id": "_MAC-jVlj3mR",
        "outputId": "b01c38a6-ec9f-415e-8306-7f39cc47d9a6"
      },
      "source": [
        "dtf[\"BANPR\"] = dtf[\"BANPR\"].map({5:1, 8:0})\n",
        "print(dtf[\"BANPR\"])"
      ],
      "execution_count": null,
      "outputs": [
        {
          "output_type": "stream",
          "text": [
            "0       0\n",
            "1       1\n",
            "2       1\n",
            "3       0\n",
            "4       0\n",
            "       ..\n",
            "1198    0\n",
            "1199    1\n",
            "1200    0\n",
            "1201    0\n",
            "1202    1\n",
            "Name: BANPR, Length: 1203, dtype: int64\n"
          ],
          "name": "stdout"
        }
      ]
    },
    {
      "cell_type": "code",
      "metadata": {
        "colab": {
          "base_uri": "https://localhost:8080/",
          "height": 294
        },
        "id": "MG7G6CStms_L",
        "outputId": "c4c38062-8015-4b18-a1c4-cc77d532ae4c"
      },
      "source": [
        "import matplotlib.pyplot as plt\n",
        "\n",
        "def plotUnivariateDistribution(dtf, y):\n",
        "    ax = dtf[y].value_counts().sort_values().plot(kind=\"barh\")\n",
        "    totals = []\n",
        "    for i in ax.patches:\n",
        "        totals.append(i.get_width())\n",
        "    total = sum(totals)\n",
        "    for i in ax.patches:\n",
        "        ax.text(i.get_width() + .3, i.get_y() + .20,\n",
        "                str(round((i.get_width() / total) * 100, 2)) + '%',\n",
        "                fontsize=10, color='black')\n",
        "    ax.grid(axis=\"x\")\n",
        "    plt.suptitle(y, fontsize=20)\n",
        "    plt.show()\n",
        "\n",
        "plotUnivariateDistribution( dtf, \"BANPR\")"
      ],
      "execution_count": null,
      "outputs": [
        {
          "output_type": "display_data",
          "data": {
            "image/png": "[encoded data removed]",
            "text/plain": [
              "<Figure size 432x288 with 1 Axes>"
            ]
          },
          "metadata": {
            "tags": [],
            "needs_background": "light"
          }
        }
      ]
    },
    {
      "cell_type": "code",
      "metadata": {
        "colab": {
          "base_uri": "https://localhost:8080/"
        },
        "id": "mC8PmUPHn1yI",
        "outputId": "158b8861-1192-48c1-be1a-c4c36efb9696"
      },
      "source": [
        "# dtf = dtf.set_index(\"BANFN\")\n",
        "dtf = dtf.rename(columns={\"BANPR\": \"Y\"})\n",
        "\n",
        "X = dtf.columns\n",
        "print(X)"
      ],
      "execution_count": null,
      "outputs": [
        {
          "output_type": "stream",
          "text": [
            "Index(['BNFPO', 'BSART', 'BSTYP', 'STATU', 'ESTKZ', 'FRGKZ', 'FRGST', 'EKGRP',\n",
            "       'ERDAT', 'TXZ01', 'WERKS', 'MATKL', 'MENGE', 'MEINS', 'BUMNG', 'BADAT',\n",
            "       'LPEIN', 'LFDAT', 'FRGDT', 'WEBAZ', 'PREIS', 'PEINH', 'PSTYP', 'KNTTP',\n",
            "       'KZVBR', 'WEPOS', 'REPOS', 'KTPNR', 'QUPOS', 'BATOL', 'BVDRK', 'EBELP',\n",
            "       'BSMNG', 'XOBLR', 'RSNUM', 'ARSNR', 'ARSPS', 'PACKNO', 'CUOBJ', 'FRGGR',\n",
            "       'MNG02', 'WAERS', 'GSFRG', 'SPRAS', 'FORDP', 'PLIFZ', 'UZEIT', 'Y',\n",
            "       'RLWRT', 'EPREFITM', 'GMMNG', 'KBLPOS', 'PRIO_URG', 'PRIO_REQ', 'ANZSN',\n",
            "       'MHDRZ', 'SRM_CONTRACT_ITM', 'ZZREQPO', 'BNFPO_CS', 'BSMNG_SND',\n",
            "       'OIOILCON', 'OIO_REF_BNFPO', 'ZZCHA', 'ZZCHAP'],\n",
            "      dtype='object')\n"
          ],
          "name": "stdout"
        }
      ]
    },
    {
      "cell_type": "code",
      "metadata": {
        "colab": {
          "base_uri": "https://localhost:8080/"
        },
        "id": "wUmPeXcezqib",
        "outputId": "abc85ca4-a9ae-4945-e1a4-f132b3ce89a8"
      },
      "source": [
        "from sklearn.model_selection import train_test_split\n",
        "# print(dtf)\n",
        "\n",
        "# X = dtf.columns.tolist()\n",
        "y = dtf.filter(['Y'])\n",
        "# print(y)\n",
        "# print(dtf.columns)\n",
        "X = dtf.drop(columns=['Y'])\n",
        "# print(X)\n",
        "# print(dtf)\n",
        "\n",
        "X_train, X_test, y_train, y_test = train_test_split(X,y,test_size=0.34)\n",
        "print(X_train)\n",
        "print(y_train)"
      ],
      "execution_count": null,
      "outputs": [
        {
          "output_type": "stream",
          "text": [
            "      BNFPO BSART BSTYP STATU  ... OIOILCON OIO_REF_BNFPO ZZCHA ZZCHAP\n",
            "975      17    IN     B     N  ...        0             0     0      0\n",
            "305      10    IN     B     N  ...        0             0     0      0\n",
            "597      10    IN     B     B  ...        0             0     0      0\n",
            "910      10    IN     B     N  ...        0             0     0      0\n",
            "641      10    IN     B     N  ...        0             0     0      0\n",
            "...     ...   ...   ...   ...  ...      ...           ...   ...    ...\n",
            "586      10    IN     B     N  ...        0             0     0      0\n",
            "585      20    IN     B     N  ...        0             0     0      0\n",
            "1053      8    IN     B     N  ...        0             0     0      0\n",
            "550      10    IN     B     N  ...        0             0     0      0\n",
            "254      10    IN     B     N  ...        0             0     0      0\n",
            "\n",
            "[793 rows x 63 columns]\n",
            "      Y\n",
            "975   1\n",
            "305   0\n",
            "597   0\n",
            "910   1\n",
            "641   1\n",
            "...  ..\n",
            "586   1\n",
            "585   0\n",
            "1053  0\n",
            "550   1\n",
            "254   1\n",
            "\n",
            "[793 rows x 1 columns]\n"
          ],
          "name": "stdout"
        }
      ]
    },
    {
      "cell_type": "code",
      "metadata": {
        "colab": {
          "base_uri": "https://localhost:8080/"
        },
        "id": "rfzMectEJtsD",
        "outputId": "21127e2a-a58a-4e69-9e04-feb919dad83f"
      },
      "source": [
        "from sklearn.linear_model import LogisticRegression\n",
        "from sklearn.model_selection import cross_validate\n",
        "\n",
        "LR = LogisticRegression()\n",
        "\n",
        "scoring = ['accuracy', 'precision_macro', 'recall_macro' , 'f1_weighted', 'roc_auc']\n",
        "scores = cross_validate(LR, X_train, y_train, scoring=scoring, cv=20)\n",
        "\n",
        "sorted(scores.keys())\n",
        "LR_fit_time = scores['fit_time'].mean()\n",
        "LR_score_time = scores['score_time'].mean()\n",
        "LR_accuracy = scores['test_accuracy'].mean()\n",
        "LR_precision = scores['test_precision_macro'].mean()\n",
        "LR_recall = scores['test_recall_macro'].mean()\n",
        "LR_f1 = scores['test_f1_weighted'].mean()\n",
        "LR_roc = scores['test_roc_auc'].mean()\n"
      ],
      "execution_count": null,
      "outputs": [
        {
          "output_type": "stream",
          "text": [
            "/usr/local/lib/python3.6/dist-packages/sklearn/model_selection/_validation.py:536: FitFailedWarning: Estimator fit failed. The score on this train-test partition for these parameters will be set to nan. Details: \n",
            "ValueError: could not convert string to float: 'IN'\n",
            "\n",
            "  FitFailedWarning)\n",
            "/usr/local/lib/python3.6/dist-packages/sklearn/model_selection/_validation.py:536: FitFailedWarning: Estimator fit failed. The score on this train-test partition for these parameters will be set to nan. Details: \n",
            "ValueError: could not convert string to float: 'IN'\n",
            "\n",
            "  FitFailedWarning)\n",
            "/usr/local/lib/python3.6/dist-packages/sklearn/model_selection/_validation.py:536: FitFailedWarning: Estimator fit failed. The score on this train-test partition for these parameters will be set to nan. Details: \n",
            "ValueError: could not convert string to float: 'IN'\n",
            "\n",
            "  FitFailedWarning)\n",
            "/usr/local/lib/python3.6/dist-packages/sklearn/model_selection/_validation.py:536: FitFailedWarning: Estimator fit failed. The score on this train-test partition for these parameters will be set to nan. Details: \n",
            "ValueError: could not convert string to float: 'IN'\n",
            "\n",
            "  FitFailedWarning)\n",
            "/usr/local/lib/python3.6/dist-packages/sklearn/model_selection/_validation.py:536: FitFailedWarning: Estimator fit failed. The score on this train-test partition for these parameters will be set to nan. Details: \n",
            "ValueError: could not convert string to float: 'IN'\n",
            "\n",
            "  FitFailedWarning)\n",
            "/usr/local/lib/python3.6/dist-packages/sklearn/model_selection/_validation.py:536: FitFailedWarning: Estimator fit failed. The score on this train-test partition for these parameters will be set to nan. Details: \n",
            "ValueError: could not convert string to float: 'IN'\n",
            "\n",
            "  FitFailedWarning)\n",
            "/usr/local/lib/python3.6/dist-packages/sklearn/model_selection/_validation.py:536: FitFailedWarning: Estimator fit failed. The score on this train-test partition for these parameters will be set to nan. Details: \n",
            "ValueError: could not convert string to float: 'IN'\n",
            "\n",
            "  FitFailedWarning)\n",
            "/usr/local/lib/python3.6/dist-packages/sklearn/model_selection/_validation.py:536: FitFailedWarning: Estimator fit failed. The score on this train-test partition for these parameters will be set to nan. Details: \n",
            "ValueError: could not convert string to float: 'IN'\n",
            "\n",
            "  FitFailedWarning)\n",
            "/usr/local/lib/python3.6/dist-packages/sklearn/model_selection/_validation.py:536: FitFailedWarning: Estimator fit failed. The score on this train-test partition for these parameters will be set to nan. Details: \n",
            "ValueError: could not convert string to float: 'IN'\n",
            "\n",
            "  FitFailedWarning)\n",
            "/usr/local/lib/python3.6/dist-packages/sklearn/model_selection/_validation.py:536: FitFailedWarning: Estimator fit failed. The score on this train-test partition for these parameters will be set to nan. Details: \n",
            "ValueError: could not convert string to float: 'IN'\n",
            "\n",
            "  FitFailedWarning)\n",
            "/usr/local/lib/python3.6/dist-packages/sklearn/model_selection/_validation.py:536: FitFailedWarning: Estimator fit failed. The score on this train-test partition for these parameters will be set to nan. Details: \n",
            "ValueError: could not convert string to float: 'IN'\n",
            "\n",
            "  FitFailedWarning)\n",
            "/usr/local/lib/python3.6/dist-packages/sklearn/model_selection/_validation.py:536: FitFailedWarning: Estimator fit failed. The score on this train-test partition for these parameters will be set to nan. Details: \n",
            "ValueError: could not convert string to float: 'IN'\n",
            "\n",
            "  FitFailedWarning)\n",
            "/usr/local/lib/python3.6/dist-packages/sklearn/model_selection/_validation.py:536: FitFailedWarning: Estimator fit failed. The score on this train-test partition for these parameters will be set to nan. Details: \n",
            "ValueError: could not convert string to float: 'IN'\n",
            "\n",
            "  FitFailedWarning)\n",
            "/usr/local/lib/python3.6/dist-packages/sklearn/model_selection/_validation.py:536: FitFailedWarning: Estimator fit failed. The score on this train-test partition for these parameters will be set to nan. Details: \n",
            "ValueError: could not convert string to float: 'IN'\n",
            "\n",
            "  FitFailedWarning)\n",
            "/usr/local/lib/python3.6/dist-packages/sklearn/model_selection/_validation.py:536: FitFailedWarning: Estimator fit failed. The score on this train-test partition for these parameters will be set to nan. Details: \n",
            "ValueError: could not convert string to float: 'IN'\n",
            "\n",
            "  FitFailedWarning)\n",
            "/usr/local/lib/python3.6/dist-packages/sklearn/model_selection/_validation.py:536: FitFailedWarning: Estimator fit failed. The score on this train-test partition for these parameters will be set to nan. Details: \n",
            "ValueError: could not convert string to float: 'IN'\n",
            "\n",
            "  FitFailedWarning)\n",
            "/usr/local/lib/python3.6/dist-packages/sklearn/model_selection/_validation.py:536: FitFailedWarning: Estimator fit failed. The score on this train-test partition for these parameters will be set to nan. Details: \n",
            "ValueError: could not convert string to float: 'IN'\n",
            "\n",
            "  FitFailedWarning)\n",
            "/usr/local/lib/python3.6/dist-packages/sklearn/model_selection/_validation.py:536: FitFailedWarning: Estimator fit failed. The score on this train-test partition for these parameters will be set to nan. Details: \n",
            "ValueError: could not convert string to float: 'IN'\n",
            "\n",
            "  FitFailedWarning)\n",
            "/usr/local/lib/python3.6/dist-packages/sklearn/model_selection/_validation.py:536: FitFailedWarning: Estimator fit failed. The score on this train-test partition for these parameters will be set to nan. Details: \n",
            "ValueError: could not convert string to float: 'IN'\n",
            "\n",
            "  FitFailedWarning)\n",
            "/usr/local/lib/python3.6/dist-packages/sklearn/model_selection/_validation.py:536: FitFailedWarning: Estimator fit failed. The score on this train-test partition for these parameters will be set to nan. Details: \n",
            "ValueError: could not convert string to float: 'IN'\n",
            "\n",
            "  FitFailedWarning)\n"
          ],
          "name": "stderr"
        }
      ]
    }
  ]
}